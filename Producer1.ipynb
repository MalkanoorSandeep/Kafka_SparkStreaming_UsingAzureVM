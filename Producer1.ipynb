{
 "cells": [
  {
   "cell_type": "code",
   "execution_count": 1,
   "id": "13488c7f-8150-4e61-904b-7d1d6c2d32e3",
   "metadata": {},
   "outputs": [
    {
     "ename": "KeyboardInterrupt",
     "evalue": "",
     "output_type": "error",
     "traceback": [
      "\u001b[0;31m---------------------------------------------------------------------------\u001b[0m",
      "\u001b[0;31mKeyboardInterrupt\u001b[0m                         Traceback (most recent call last)",
      "Cell \u001b[0;32mIn[1], line 31\u001b[0m\n\u001b[1;32m     28\u001b[0m     producer\u001b[38;5;241m.\u001b[39mflush()\n\u001b[1;32m     30\u001b[0m     \u001b[38;5;66;03m# Sleep for 20 seconds\u001b[39;00m\n\u001b[0;32m---> 31\u001b[0m     \u001b[43mtime\u001b[49m\u001b[38;5;241;43m.\u001b[39;49m\u001b[43msleep\u001b[49m\u001b[43m(\u001b[49m\u001b[38;5;241;43m1\u001b[39;49m\u001b[43m)\u001b[49m\n\u001b[1;32m     33\u001b[0m \u001b[38;5;28mprint\u001b[39m(data_1)\n\u001b[1;32m     34\u001b[0m k\u001b[38;5;241m=\u001b[39mjson\u001b[38;5;241m.\u001b[39mdumps(data_1)\n",
      "\u001b[0;31mKeyboardInterrupt\u001b[0m: "
     ]
    }
   ],
   "source": [
    "from confluent_kafka import Producer\n",
    "import requests\n",
    "import json\n",
    "import time\n",
    "\n",
    "# Kafka Producer Configuration\n",
    "producer = Producer({'bootstrap.servers': 'localhost:9092'})\n",
    "\n",
    "# API endpoints\n",
    "api_url_1 = 'https://randomuser.me/api/'\n",
    "count=0\n",
    "str_val = str(count) \n",
    " \n",
    "# converting string to bytes \n",
    "cnt = str_val.encode()\n",
    "# Periodically fetch and publish data to Kafka\n",
    "while (True):\n",
    "    # Fetch data from API 1\n",
    "    response_1 = requests.get(api_url_1)\n",
    "    if response_1.status_code == 200:\n",
    "        data_1 = response_1.json()\n",
    "        producer.produce('api1', key=str_val, value=json.dumps(data_1))\n",
    "    else:\n",
    "        print(f\"Failed to fetch data from API 1 (Status Code: {response_1.status_code})\")\n",
    "    \n",
    "    count=count+1\n",
    "    str_val = str(count) \n",
    "    producer.flush()\n",
    "    \n",
    "    # Sleep for 20 seconds\n",
    "    time.sleep(1)\n",
    "\n",
    "print(data_1)\n",
    "k=json.dumps(data_1)\n",
    "k.printSchema()"
   ]
  },
  {
   "cell_type": "code",
   "execution_count": null,
   "id": "b410a10f-666b-4e4d-8dfc-e08efa81b4dd",
   "metadata": {},
   "outputs": [],
   "source": []
  }
 ],
 "metadata": {
  "kernelspec": {
   "display_name": "Python 3 (ipykernel)",
   "language": "python",
   "name": "python3"
  },
  "language_info": {
   "codemirror_mode": {
    "name": "ipython",
    "version": 3
   },
   "file_extension": ".py",
   "mimetype": "text/x-python",
   "name": "python",
   "nbconvert_exporter": "python",
   "pygments_lexer": "ipython3",
   "version": "3.8.10"
  }
 },
 "nbformat": 4,
 "nbformat_minor": 5
}
